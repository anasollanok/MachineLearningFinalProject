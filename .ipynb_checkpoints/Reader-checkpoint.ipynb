{
 "cells": [
  {
   "cell_type": "code",
   "execution_count": 3,
   "metadata": {},
   "outputs": [
    {
     "ename": "ModuleNotFoundError",
     "evalue": "No module named 'keras'",
     "output_type": "error",
     "traceback": [
      "\u001b[1;31m---------------------------------------------------------------------------\u001b[0m",
      "\u001b[1;31mModuleNotFoundError\u001b[0m                       Traceback (most recent call last)",
      "\u001b[1;32m<ipython-input-3-83d5c9f8d041>\u001b[0m in \u001b[0;36m<module>\u001b[1;34m()\u001b[0m\n\u001b[1;32m----> 1\u001b[1;33m \u001b[1;32mfrom\u001b[0m \u001b[0mkeras\u001b[0m\u001b[1;33m.\u001b[0m\u001b[0mmodels\u001b[0m \u001b[1;32mimport\u001b[0m \u001b[0mmodel_from_json\u001b[0m\u001b[1;33m\u001b[0m\u001b[0m\n\u001b[0m\u001b[0;32m      2\u001b[0m \u001b[1;31m# Testing\u001b[0m\u001b[1;33m\u001b[0m\u001b[1;33m\u001b[0m\u001b[0m\n\u001b[0;32m      3\u001b[0m \u001b[1;31m# load json and create model\u001b[0m\u001b[1;33m\u001b[0m\u001b[1;33m\u001b[0m\u001b[0m\n\u001b[0;32m      4\u001b[0m \u001b[0mjson_file\u001b[0m \u001b[1;33m=\u001b[0m \u001b[0mopen\u001b[0m\u001b[1;33m(\u001b[0m\u001b[1;34m'model.json'\u001b[0m\u001b[1;33m,\u001b[0m \u001b[1;34m'r'\u001b[0m\u001b[1;33m)\u001b[0m\u001b[1;33m\u001b[0m\u001b[0m\n\u001b[0;32m      5\u001b[0m \u001b[0mloaded_model_json\u001b[0m \u001b[1;33m=\u001b[0m \u001b[0mjson_file\u001b[0m\u001b[1;33m.\u001b[0m\u001b[0mread\u001b[0m\u001b[1;33m(\u001b[0m\u001b[1;33m)\u001b[0m\u001b[1;33m\u001b[0m\u001b[0m\n",
      "\u001b[1;31mModuleNotFoundError\u001b[0m: No module named 'keras'"
     ]
    }
   ],
   "source": [
    "from keras.models import model_from_json\n",
    "# Testing\n",
    "# load json and create model\n",
    "json_file = open('model.json', 'r')\n",
    "loaded_model_json = json_file.read()\n",
    "json_file.close()\n",
    "loaded_model = model_from_json(loaded_model_json)\n",
    "\n",
    "# load weights into new model\n",
    "loaded_model.load_weights(\"model.h5\")\n",
    "print(\"Loaded model from disk\")\n",
    "\n",
    "# evaluate loaded model on test data\n",
    "sgd = SGD(lr=0.05, decay=1e-6, momentum=0.5, nesterov=True) # optimizer\n",
    "model.compile(loss='mean_squared_logarithmic_error', optimizer=sgd, metrics=['mae'])\n",
    "score = model.evaluate(X_test, Y_test, batch_size=25)\n",
    "print(score)\n",
    "\n",
    "# ---- INPUTS --------\n",
    "# Given hour, nitrogen dioxide, \n",
    "hour = 1\n",
    "nitrogenD = 14\n",
    "carbonM = 12\n",
    "pm10M =  106\n",
    "zone = 1 # noroeste: 1, noreste:2, centro: 3, suroeste:4, sureste:5\n",
    "month = 0 # from 0 to 11\n",
    "\n",
    "# Categorizing\n",
    "if nitrogenD <= 10:\n",
    "    nitrogenD = 0\n",
    "elif nitrogenD <= 15:\n",
    "    nitrogenD = 1\n",
    "elif nitrogenD <= 20:\n",
    "    nitrogenD = 2\n",
    "else:\n",
    "    nitrogenD = 3\n",
    "\n",
    "if carbonM <= 5:\n",
    "    carbonM = 0\n",
    "elif carbonM <= 6:\n",
    "    carbonM = 1\n",
    "elif carbonM <= 8:\n",
    "    carbonM = 2\n",
    "else:\n",
    "    carbonM = 3\n",
    "\n",
    "if pm10M <= 44:\n",
    "    pm10M = 0\n",
    "elif pm10M <= 64:\n",
    "    pm10M = 1\n",
    "elif pm10M <= 94:\n",
    "    pm10M = 2\n",
    "else:\n",
    "    pm10M = 3\n",
    "\n",
    "\n",
    "Xnew = np.array([[hour, nitrogenD, carbonM, pm10M, zone, month]])\n",
    "# make a prediction\n",
    "ynew = model.predict(Xnew)\n",
    "# Denormalization\n",
    "ynew = ynew * (np.max(Y_train) - np.min(Y_train)) + np.min(Y_train)\n",
    "# show the inputs and predicted outputs\n",
    "print(\"X=%s, Predicted=%s\" % (Xnew[0], ynew[0]))"
   ]
  },
  {
   "cell_type": "code",
   "execution_count": null,
   "metadata": {},
   "outputs": [],
   "source": []
  }
 ],
 "metadata": {
  "kernelspec": {
   "display_name": "Python 3",
   "language": "python",
   "name": "python3"
  },
  "language_info": {
   "codemirror_mode": {
    "name": "ipython",
    "version": 3
   },
   "file_extension": ".py",
   "mimetype": "text/x-python",
   "name": "python",
   "nbconvert_exporter": "python",
   "pygments_lexer": "ipython3",
   "version": "3.6.5"
  }
 },
 "nbformat": 4,
 "nbformat_minor": 2
}
